{
  "nbformat": 4,
  "nbformat_minor": 0,
  "metadata": {
    "colab": {
      "name": "password.py",
      "provenance": [],
      "collapsed_sections": [],
      "authorship_tag": "ABX9TyPqElGeJf7qOsOq3MSGg6tr",
      "include_colab_link": true
    },
    "kernelspec": {
      "name": "python3",
      "display_name": "Python 3"
    }
  },
  "cells": [
    {
      "cell_type": "markdown",
      "metadata": {
        "id": "view-in-github",
        "colab_type": "text"
      },
      "source": [
        "<a href=\"https://colab.research.google.com/github/ChuckBV/Etude3/blob/master/password_py.ipynb\" target=\"_parent\"><img src=\"https://colab.research.google.com/assets/colab-badge.svg\" alt=\"Open In Colab\"/></a>"
      ]
    },
    {
      "cell_type": "code",
      "metadata": {
        "id": "bnaEDQ4Bbg3S",
        "outputId": "d5cb6fa3-50f2-42e1-cf82-102cfd642d33",
        "colab": {
          "base_uri": "https://localhost:8080/"
        }
      },
      "source": [
        "s1 = random.sample(list(string.ascii_lowercase),1)\n",
        "s2 = random.sample(list(string.ascii_uppercase),1)\n",
        "s3 = random.sample(list('23456789'),1)\n",
        "s4 = random.sample(list('!#$^*'),1)\n",
        "print(s1)\n",
        "print(s2)\n",
        "print(s3)\n",
        "print(s4)\n",
        "\n",
        "s = []\n",
        "s.extend(s1)\n",
        "s.extend(s2)\n",
        "s.extend(s3)\n",
        "s.extend(s4)\n",
        "s= random.sample(s,4)\n",
        "print(\"\".join(s))\n"
      ],
      "execution_count": null,
      "outputs": [
        {
          "output_type": "stream",
          "text": [
            "['u']\n",
            "['R']\n",
            "['2']\n",
            "['*']\n",
            "u*R2\n"
          ],
          "name": "stdout"
        }
      ]
    }
  ]
}